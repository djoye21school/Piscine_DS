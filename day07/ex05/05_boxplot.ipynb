{
 "cells": [
  {
   "cell_type": "code",
   "execution_count": 2,
   "metadata": {},
   "outputs": [],
   "source": [
    "import pandas as pd\n",
    "import sqlite3\n",
    "import matplotlib.pyplot as plt"
   ]
  },
  {
   "cell_type": "markdown",
   "metadata": {},
   "source": [
    "##  use the data from the file, read it to a dataframe and make any modification that you may find useful to solve the task"
   ]
  },
  {
   "cell_type": "code",
   "execution_count": 3,
   "metadata": {},
   "outputs": [],
   "source": [
    "df = pd.read_csv('../data/ab-test.csv')"
   ]
  },
  {
   "cell_type": "code",
   "execution_count": 4,
   "metadata": {},
   "outputs": [
    {
     "data": {
      "text/html": [
       "<div>\n",
       "<style scoped>\n",
       "    .dataframe tbody tr th:only-of-type {\n",
       "        vertical-align: middle;\n",
       "    }\n",
       "\n",
       "    .dataframe tbody tr th {\n",
       "        vertical-align: top;\n",
       "    }\n",
       "\n",
       "    .dataframe thead th {\n",
       "        text-align: right;\n",
       "    }\n",
       "</style>\n",
       "<table border=\"1\" class=\"dataframe\">\n",
       "  <thead>\n",
       "    <tr style=\"text-align: right;\">\n",
       "      <th></th>\n",
       "      <th>uid</th>\n",
       "      <th>diff</th>\n",
       "      <th>time</th>\n",
       "      <th>group</th>\n",
       "    </tr>\n",
       "  </thead>\n",
       "  <tbody>\n",
       "    <tr>\n",
       "      <th>0</th>\n",
       "      <td>user_1</td>\n",
       "      <td>-103.333333</td>\n",
       "      <td>after</td>\n",
       "      <td>test</td>\n",
       "    </tr>\n",
       "    <tr>\n",
       "      <th>1</th>\n",
       "      <td>user_1</td>\n",
       "      <td>-6.000000</td>\n",
       "      <td>before</td>\n",
       "      <td>test</td>\n",
       "    </tr>\n",
       "    <tr>\n",
       "      <th>2</th>\n",
       "      <td>user_18</td>\n",
       "      <td>-10.000000</td>\n",
       "      <td>after</td>\n",
       "      <td>test</td>\n",
       "    </tr>\n",
       "    <tr>\n",
       "      <th>3</th>\n",
       "      <td>user_18</td>\n",
       "      <td>-3.500000</td>\n",
       "      <td>before</td>\n",
       "      <td>test</td>\n",
       "    </tr>\n",
       "    <tr>\n",
       "      <th>4</th>\n",
       "      <td>user_19</td>\n",
       "      <td>-82.333333</td>\n",
       "      <td>after</td>\n",
       "      <td>test</td>\n",
       "    </tr>\n",
       "  </tbody>\n",
       "</table>\n",
       "</div>"
      ],
      "text/plain": [
       "       uid        diff    time group\n",
       "0   user_1 -103.333333   after  test\n",
       "1   user_1   -6.000000  before  test\n",
       "2  user_18  -10.000000   after  test\n",
       "3  user_18   -3.500000  before  test\n",
       "4  user_19  -82.333333   after  test"
      ]
     },
     "execution_count": 4,
     "metadata": {},
     "output_type": "execute_result"
    }
   ],
   "source": [
    "df.head()"
   ]
  },
  {
   "cell_type": "markdown",
   "metadata": {},
   "source": [
    "## the figsize is still the same, the fontsize you can choose whatever you like\n",
    "## the color palette should be as in the example\n",
    "## the fontsize of the title is 15\n",
    "## the width of the box lines is 3, the width of the median lines is 2"
   ]
  },
  {
   "cell_type": "code",
   "execution_count": 5,
   "metadata": {},
   "outputs": [
    {
     "data": {
      "image/png": "[encoded data removed]",
      "text/plain": [
       "<Figure size 1080x576 with 2 Axes>"
      ]
     },
     "metadata": {
      "needs_background": "light"
     },
     "output_type": "display_data"
    }
   ],
   "source": [
    "fig, ax = plt.subplots(1, 2, sharey=True, figsize=(15, 8))\n",
    "\n",
    "df[df['time'] == 'after'].boxplot(column=['diff'], by=['group'], ax = ax[0], \n",
    "                                  color=dict(boxes='g', whiskers='r', medians='r', caps='r'),\n",
    "                                  boxprops=dict(linewidth=3),\n",
    "                                  medianprops=dict(linewidth=2))\n",
    "\n",
    "df[df['time'] == 'before'].boxplot(column='diff', by=['group'], ax = ax[1], \n",
    "                                  color=dict(boxes='g', whiskers='r', medians='r', caps='r'),\n",
    "                                  boxprops=dict(linewidth=3),\n",
    "                                  medianprops=dict(linewidth=2))\n",
    "ax[0].set_title('after')\n",
    "ax[1].set_title('before')\n",
    "fig.suptitle('Lag before labs deadlines. After and before the Newsfeed', fontsize=15)\n",
    "plt.show()"
   ]
  },
  {
   "cell_type": "markdown",
   "metadata": {},
   "source": [
    "## What was the IQR of the control group before Newsfeed?"
   ]
  },
  {
   "cell_type": "code",
   "execution_count": 5,
   "metadata": {},
   "outputs": [
    {
     "data": {
      "text/plain": [
       "60"
      ]
     },
     "execution_count": 5,
     "metadata": {},
     "output_type": "execute_result"
    }
   ],
   "source": [
    "describe = df[(df['time']=='before')&(df['group']=='test')].describe()\n",
    "int(round((describe.loc['75%'] - describe.loc['25%'])['diff']/10, 0) * 10)"
   ]
  }
 ],
 "metadata": {
  "kernelspec": {
   "display_name": "Python 3",
   "language": "python",
   "name": "python3"
  },
  "language_info": {
   "codemirror_mode": {
    "name": "ipython",
    "version": 3
   },
   "file_extension": ".py",
   "mimetype": "text/x-python",
   "name": "python",
   "nbconvert_exporter": "python",
   "pygments_lexer": "ipython3",
   "version": "3.7.6"
  }
 },
 "nbformat": 4,
 "nbformat_minor": 4
}
